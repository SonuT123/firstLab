{
 "cells": [
  {
   "cell_type": "code",
   "execution_count": null,
   "id": "b73d958e-c81b-41dc-8985-acdb1897e303",
   "metadata": {},
   "outputs": [],
   "source": [
    "                                       #  Assignment "
   ]
  },
  {
   "cell_type": "code",
   "execution_count": 1,
   "id": "257cb79e-fd4a-4104-a551-a1100a15199e",
   "metadata": {},
   "outputs": [],
   "source": [
    "#Q1. Create one variable containing following type of data:\n",
    "#(i) string\n",
    "#(ii) list\n",
    "#(iii) float\n",
    "#(iv) tuple"
   ]
  },
  {
   "cell_type": "code",
   "execution_count": 2,
   "id": "9748db9c-3155-48be-bade-a66026a716df",
   "metadata": {},
   "outputs": [],
   "source": [
    " data = [2,3,4,5,6,7, \"sonu\" , 653, 65.35 ,(1,2,3,4)]"
   ]
  },
  {
   "cell_type": "code",
   "execution_count": 3,
   "id": "99b64a68-029f-4082-86c3-ea9536a99553",
   "metadata": {},
   "outputs": [
    {
     "data": {
      "text/plain": [
       "[2, 3, 4, 5, 6, 7, 'sonu', 653, 65.35, (1, 2, 3, 4)]"
      ]
     },
     "execution_count": 3,
     "metadata": {},
     "output_type": "execute_result"
    }
   ],
   "source": [
    "data"
   ]
  },
  {
   "cell_type": "code",
   "execution_count": 6,
   "id": "89805647-0aa1-4ba0-b255-0a4e86a681b0",
   "metadata": {},
   "outputs": [
    {
     "data": {
      "text/plain": [
       "['sonu']"
      ]
     },
     "execution_count": 6,
     "metadata": {},
     "output_type": "execute_result"
    }
   ],
   "source": [
    "data[6:7]"
   ]
  },
  {
   "cell_type": "code",
   "execution_count": 7,
   "id": "f9eef97a-c26f-422e-ae61-5273e2a89449",
   "metadata": {},
   "outputs": [
    {
     "data": {
      "text/plain": [
       "str"
      ]
     },
     "execution_count": 7,
     "metadata": {},
     "output_type": "execute_result"
    }
   ],
   "source": [
    "type(\"sonu\")"
   ]
  },
  {
   "cell_type": "code",
   "execution_count": 8,
   "id": "d791e2a9-aec4-4b41-82e8-c2956174f3b3",
   "metadata": {},
   "outputs": [
    {
     "data": {
      "text/plain": [
       "list"
      ]
     },
     "execution_count": 8,
     "metadata": {},
     "output_type": "execute_result"
    }
   ],
   "source": [
    "type(data)"
   ]
  },
  {
   "cell_type": "code",
   "execution_count": 9,
   "id": "de5dc35b-0131-4f1d-8d32-4a2b544d4d97",
   "metadata": {},
   "outputs": [
    {
     "data": {
      "text/plain": [
       "[65.35]"
      ]
     },
     "execution_count": 9,
     "metadata": {},
     "output_type": "execute_result"
    }
   ],
   "source": [
    "data[8:9]"
   ]
  },
  {
   "cell_type": "code",
   "execution_count": 11,
   "id": "b7bb07a2-da5c-4c14-b759-431ef09efb90",
   "metadata": {},
   "outputs": [
    {
     "data": {
      "text/plain": [
       "float"
      ]
     },
     "execution_count": 11,
     "metadata": {},
     "output_type": "execute_result"
    }
   ],
   "source": [
    "type(65.35)"
   ]
  },
  {
   "cell_type": "code",
   "execution_count": 13,
   "id": "65b2a0a3-d060-4335-aa9a-8a2f1ad0b915",
   "metadata": {},
   "outputs": [
    {
     "data": {
      "text/plain": [
       "[(1, 2, 3, 4)]"
      ]
     },
     "execution_count": 13,
     "metadata": {},
     "output_type": "execute_result"
    }
   ],
   "source": [
    "data[9:10]"
   ]
  },
  {
   "cell_type": "code",
   "execution_count": 15,
   "id": "ca6594a6-2cca-4b8b-9f11-2c0ec3748bc1",
   "metadata": {},
   "outputs": [
    {
     "data": {
      "text/plain": [
       "type[1, 2, 3, 4]"
      ]
     },
     "execution_count": 15,
     "metadata": {},
     "output_type": "execute_result"
    }
   ],
   "source": [
    "type[(1,2,3,4)]"
   ]
  },
  {
   "cell_type": "code",
   "execution_count": 17,
   "id": "f6751f83-4338-4cad-b686-35c6add0c5e4",
   "metadata": {},
   "outputs": [],
   "source": [
    "#Q2. Given are some following variables containing data:\n",
    "#(i) var1 = ‘ ‘\n",
    "#(ii) var2 = ‘[ DS , ML , Python]’\n",
    "#ii) var3 = [ ‘DS’ , ’ML’ , ‘Python’ ]\n",
    "#iv) var4 = 1."
   ]
  },
  {
   "cell_type": "code",
   "execution_count": 22,
   "id": "b372cd58-2622-48bb-bee3-812a91430d61",
   "metadata": {},
   "outputs": [],
   "source": [
    "# Answer \n",
    " "
   ]
  },
  {
   "cell_type": "code",
   "execution_count": 23,
   "id": "bb677054-1055-4dbe-af20-c72afe85a7de",
   "metadata": {},
   "outputs": [],
   "source": [
    "copy = 'sonu'"
   ]
  },
  {
   "cell_type": "code",
   "execution_count": 24,
   "id": "490717cb-9bfb-46c2-95aa-8edc93ac1514",
   "metadata": {},
   "outputs": [
    {
     "data": {
      "text/plain": [
       "str"
      ]
     },
     "execution_count": 24,
     "metadata": {},
     "output_type": "execute_result"
    }
   ],
   "source": [
    "type(copy)"
   ]
  },
  {
   "cell_type": "code",
   "execution_count": 25,
   "id": "4b050095-5417-4c68-9108-7e2cae01b137",
   "metadata": {},
   "outputs": [],
   "source": [
    "(ii) copy1 = '[ ds, ml, python]'"
   ]
  },
  {
   "cell_type": "code",
   "execution_count": 26,
   "id": "e90b32b0-2804-4704-88e1-133d238f3d16",
   "metadata": {},
   "outputs": [
    {
     "data": {
      "text/plain": [
       "str"
      ]
     },
     "execution_count": 26,
     "metadata": {},
     "output_type": "execute_result"
    }
   ],
   "source": [
    "type(copy1)"
   ]
  },
  {
   "cell_type": "code",
   "execution_count": 27,
   "id": "c0b2c315-36eb-4a4a-b53e-5ebd9cc0cbe1",
   "metadata": {},
   "outputs": [],
   "source": [
    "(iii) copy2 = ['ds', 'ml', 'python' ]"
   ]
  },
  {
   "cell_type": "code",
   "execution_count": 28,
   "id": "5070edad-be88-4b08-a30e-351c514d523d",
   "metadata": {},
   "outputs": [
    {
     "data": {
      "text/plain": [
       "list"
      ]
     },
     "execution_count": 28,
     "metadata": {},
     "output_type": "execute_result"
    }
   ],
   "source": [
    "type(copy2)"
   ]
  },
  {
   "cell_type": "code",
   "execution_count": null,
   "id": "85cbb1a8-c7fc-42e4-8a9e-92fb151a0768",
   "metadata": {},
   "outputs": [],
   "source": [
    "(iv) copy3 = 1."
   ]
  },
  {
   "cell_type": "code",
   "execution_count": 31,
   "id": "43518079-e251-47d6-b6ba-66bb277109cc",
   "metadata": {},
   "outputs": [
    {
     "ename": "NameError",
     "evalue": "name 'copy3' is not defined",
     "output_type": "error",
     "traceback": [
      "\u001b[0;31m---------------------------------------------------------------------------\u001b[0m",
      "\u001b[0;31mNameError\u001b[0m                                 Traceback (most recent call last)",
      "Cell \u001b[0;32mIn [31], line 1\u001b[0m\n\u001b[0;32m----> 1\u001b[0m \u001b[38;5;28mtype\u001b[39m(\u001b[43mcopy3\u001b[49m)\n",
      "\u001b[0;31mNameError\u001b[0m: name 'copy3' is not defined"
     ]
    }
   ],
   "source": [
    "type(copy3)"
   ]
  },
  {
   "cell_type": "code",
   "execution_count": 32,
   "id": "39312305-8e99-4b0b-ba4d-c256c7cb04bb",
   "metadata": {},
   "outputs": [],
   "source": [
    "# Q3. Explain the use of the following operators using an example:\n",
    "# (i) /\n",
    "# (ii) %\n",
    "# (iii) //\n",
    "# (iv) **"
   ]
  },
  {
   "cell_type": "code",
   "execution_count": 33,
   "id": "a91f6c91-0a54-4b67-aa73-0c89a1e0a35a",
   "metadata": {},
   "outputs": [],
   "source": [
    "(i)a = 4\n",
    "   b =8"
   ]
  },
  {
   "cell_type": "code",
   "execution_count": 36,
   "id": "9339e675-3501-49ec-95be-2b9f2b0a83b9",
   "metadata": {},
   "outputs": [],
   "source": [
    "result = 4/8"
   ]
  },
  {
   "cell_type": "code",
   "execution_count": 40,
   "id": "9d489e14-0fbc-46db-aedd-48817edef954",
   "metadata": {},
   "outputs": [],
   "source": [
    " a = 10\n",
    " b = 3\n",
    "result = 10%3"
   ]
  },
  {
   "cell_type": "code",
   "execution_count": 41,
   "id": "ad6e46cc-dd23-4e8a-8c15-efcd0784b3a9",
   "metadata": {},
   "outputs": [],
   "source": [
    "a = 10 \n",
    "b = 3 \n",
    "result = a // b"
   ]
  },
  {
   "cell_type": "code",
   "execution_count": 42,
   "id": "165ab6fb-7d40-4bc5-b56d-1595459e1c89",
   "metadata": {},
   "outputs": [],
   "source": [
    " r = 10//3 "
   ]
  },
  {
   "cell_type": "code",
   "execution_count": 43,
   "id": "92416108-ffed-4226-a499-0409c55240f8",
   "metadata": {},
   "outputs": [],
   "source": [
    "base = 2 \n",
    "exponent = 3 \n",
    "result = base ** exponent"
   ]
  },
  {
   "cell_type": "code",
   "execution_count": 44,
   "id": "3384f93f-68af-4630-8293-65405ac7f314",
   "metadata": {},
   "outputs": [],
   "source": [
    "# Q4. Create a list of length 10 of your choice containing multiple types of data. Using for loop print the\n",
    "# element and its data type."
   ]
  },
  {
   "cell_type": "code",
   "execution_count": 48,
   "id": "8e07b402-cd6d-4324-be7e-9c478a462e34",
   "metadata": {},
   "outputs": [
    {
     "name": "stdout",
     "output_type": "stream",
     "text": [
      "Element : 10\n",
      "data type : <class 'int'>\n",
      "\n",
      "Element : hello\n",
      "data type : <class 'str'>\n",
      "\n",
      "Element : 3.16\n",
      "data type : <class 'float'>\n",
      "\n",
      "Element : True\n",
      "data type : <class 'bool'>\n",
      "\n",
      "Element : [1, 2, 3]\n",
      "data type : <class 'list'>\n",
      "\n",
      "Element : {'sonu': 'rajiv', 'krishna': 45}\n",
      "data type : <class 'dict'>\n",
      "\n",
      "Element : None\n",
      "data type : <class 'NoneType'>\n",
      "\n",
      "Element : ('a', 'b', 'c')\n",
      "data type : <class 'tuple'>\n",
      "\n",
      "Element : False\n",
      "data type : <class 'bool'>\n",
      "\n",
      "Element : 6.6\n",
      "data type : <class 'float'>\n",
      "\n"
     ]
    }
   ],
   "source": [
    "my_list = [ 10, \"hello\" ,3.16 , True , [1,2,3], {\"sonu\": \"rajiv\", \"krishna\": 45}, None , ('a' , 'b', 'c'), False, 6.6]\n",
    "\n",
    "for element in my_list:\n",
    "    print(\"Element :\" , element)\n",
    "    print(\"data type :\", type (element))\n",
    "    print()"
   ]
  },
  {
   "cell_type": "code",
   "execution_count": 49,
   "id": "8de2dec1-617b-483e-8a9f-eb5269d42fa8",
   "metadata": {},
   "outputs": [],
   "source": [
    "#Q5. Using a while loop, verify if the number A is purely divisible by number B and if so then how many\n",
    "# times it can be divisible."
   ]
  },
  {
   "cell_type": "code",
   "execution_count": 51,
   "id": "89517bbd-8af4-425a-b1ba-d5df16095c62",
   "metadata": {},
   "outputs": [
    {
     "name": "stdout",
     "output_type": "stream",
     "text": [
      "number of times  3 divides 8.0 is 1\n"
     ]
    }
   ],
   "source": [
    "A = 24 \n",
    "B = 3\n",
    "\n",
    "\n",
    "count = 0 \n",
    "\n",
    "\n",
    "while A % B == 0 :\n",
    "    A = A / B \n",
    "    count += 1\n",
    "print (\"number of times \", B, \"divides\", A, \"is\", count)"
   ]
  },
  {
   "cell_type": "code",
   "execution_count": 52,
   "id": "2dc8dac9-0d28-4b0e-9f7d-986391adf523",
   "metadata": {},
   "outputs": [],
   "source": [
    "# Q6. Create a list containing 25 int type data. Using for loop and if-else condition print if the element is\n",
    "# divisible by 3 or not."
   ]
  },
  {
   "cell_type": "code",
   "execution_count": 53,
   "id": "5cdf78cd-a2f8-4647-a5ef-67642bd34a1c",
   "metadata": {},
   "outputs": [
    {
     "name": "stdout",
     "output_type": "stream",
     "text": [
      "8 is not divisible by 3\n",
      "15 is divisible by 3\n",
      "12 is divisible by 3\n",
      "9 is divisible by 3\n",
      "7 is not divisible by 3\n",
      "24 is divisible by 3\n",
      "5 is not divisible by 3\n",
      "18 is divisible by 3\n",
      "21 is divisible by 3\n",
      "6 is divisible by 3\n",
      "10 is not divisible by 3\n",
      "16 is not divisible by 3\n",
      "27 is divisible by 3\n",
      "33 is divisible by 3\n",
      "30 is divisible by 3\n",
      "11 is not divisible by 3\n",
      "20 is not divisible by 3\n",
      "14 is not divisible by 3\n",
      "25 is not divisible by 3\n",
      "22 is not divisible by 3\n",
      "13 is not divisible by 3\n",
      "19 is not divisible by 3\n",
      "17 is not divisible by 3\n",
      "28 is not divisible by 3\n",
      "36 is divisible by 3\n"
     ]
    }
   ],
   "source": [
    "my_list = [8, 15, 12, 9, 7, 24, 5, 18, 21, 6, 10, 16, 27, 33, 30, 11, 20, 14, 25, 22, 13, 19, 17, 28, 36]\n",
    "\n",
    "for element in my_list:\n",
    "    if element % 3 == 0:\n",
    "        print(element, \"is divisible by 3\")\n",
    "    else:\n",
    "        print(element, \"is not divisible by 3\")"
   ]
  },
  {
   "cell_type": "code",
   "execution_count": 54,
   "id": "b7359376-1bb6-47c0-8acf-d21bc44147d1",
   "metadata": {},
   "outputs": [],
   "source": [
    "# Q7. What do you understand about mutable and immutable data types? Give examples for both showing\n",
    "# this property."
   ]
  },
  {
   "cell_type": "code",
   "execution_count": 57,
   "id": "a2cc6aea-1698-4aaf-92b9-86a6d50f9d16",
   "metadata": {},
   "outputs": [],
   "source": [
    "# immutable data types are those whose values cannot be modified once they are created.\n",
    "# Any operation that appears to modify an immutable data type actually creates a new value."
   ]
  },
  {
   "cell_type": "code",
   "execution_count": 58,
   "id": "5c0814c2-1cd7-4ec9-b788-4df0987ac0a7",
   "metadata": {},
   "outputs": [],
   "source": [
    "# mutable data types are those that can be modified after they are created.\n",
    "# Operations on mutable data types can directly modify the value without creating a new object."
   ]
  },
  {
   "cell_type": "code",
   "execution_count": null,
   "id": "021ba9a2-8037-45cf-8522-ec799a5df3f5",
   "metadata": {},
   "outputs": [],
   "source": [
    "immutable"
   ]
  },
  {
   "cell_type": "code",
   "execution_count": 60,
   "id": "2e8b3384-d284-4168-9b1f-754be2fccb2e",
   "metadata": {},
   "outputs": [
    {
     "name": "stdout",
     "output_type": "stream",
     "text": [
      "Hello\n",
      "Hello World\n"
     ]
    }
   ],
   "source": [
    "string = \"Hello\"\n",
    "print(string)  # Output: Hello\n",
    "\n",
    "string = string + \" World\"\n",
    "print(string)  "
   ]
  },
  {
   "cell_type": "code",
   "execution_count": null,
   "id": "f2b5a407-29eb-485c-92d8-c14b33c45a23",
   "metadata": {},
   "outputs": [],
   "source": [
    "mutable"
   ]
  },
  {
   "cell_type": "code",
   "execution_count": null,
   "id": "be52570d-49cf-47e7-aefc-3bb69af17079",
   "metadata": {},
   "outputs": [],
   "source": [
    "my_list = [1, 2, 3]\n",
    "print(my_list)  # Output: [1, 2, 3]\n",
    "\n",
    "my_list.append(4)\n",
    "print(my_list)  \n",
    "\n",
    "my_list[0] = 5\n",
    "print(my_list)  "
   ]
  }
 ],
 "metadata": {
  "kernelspec": {
   "display_name": "Python 3 (ipykernel)",
   "language": "python",
   "name": "python3"
  },
  "language_info": {
   "codemirror_mode": {
    "name": "ipython",
    "version": 3
   },
   "file_extension": ".py",
   "mimetype": "text/x-python",
   "name": "python",
   "nbconvert_exporter": "python",
   "pygments_lexer": "ipython3",
   "version": "3.10.6"
  }
 },
 "nbformat": 4,
 "nbformat_minor": 5
}
