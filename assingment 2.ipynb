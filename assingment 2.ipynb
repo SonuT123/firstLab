{
 "cells": [
  {
   "cell_type": "code",
   "execution_count": 1,
   "id": "4b9119cc-95c3-4f90-9a84-3f8be34e9f17",
   "metadata": {},
   "outputs": [],
   "source": [
    "                                   # Assignment- 2"
   ]
  },
  {
   "cell_type": "code",
   "execution_count": 3,
   "id": "7b001125-d97a-4b02-8091-a304b72db239",
   "metadata": {},
   "outputs": [],
   "source": [
    " #( 1 ) how do you comment code in python ? what are the different types of comments? "
   ]
  },
  {
   "cell_type": "code",
   "execution_count": 8,
   "id": "48b49389-73c1-4403-b65e-b614cf11c2f3",
   "metadata": {},
   "outputs": [],
   "source": [
    "# single line comments\n",
    "  "
   ]
  },
  {
   "cell_type": "code",
   "execution_count": 13,
   "id": "bf982cad-97cb-4ab8-b07a-e81a77df3064",
   "metadata": {},
   "outputs": [],
   "source": [
    "yoo = \" mr rakesh shinha\""
   ]
  },
  {
   "cell_type": "code",
   "execution_count": 14,
   "id": "d7f21c77-bdcd-45d9-82bb-98993b6b1f83",
   "metadata": {},
   "outputs": [
    {
     "name": "stdout",
     "output_type": "stream",
     "text": [
      " mr rakesh shinha\n"
     ]
    }
   ],
   "source": [
    "print(yoo)"
   ]
  },
  {
   "cell_type": "code",
   "execution_count": 16,
   "id": "5874a7b3-4c71-4284-8193-d8d50a1141b7",
   "metadata": {},
   "outputs": [
    {
     "name": "stdout",
     "output_type": "stream",
     "text": [
      " yes is singh line\n"
     ]
    }
   ],
   "source": [
    "#print \" yes is single line comment !\" to comment \n",
    "print(' yes is singh line')"
   ]
  },
  {
   "cell_type": "code",
   "execution_count": 17,
   "id": "09b41473-62c0-497a-9147-b1e7c7fa6172",
   "metadata": {},
   "outputs": [
    {
     "name": "stdout",
     "output_type": "stream",
     "text": [
      "he will have gone\n"
     ]
    }
   ],
   "source": [
    "# you will be  creating and saving\n",
    "# he will have gone \n",
    "print (\"he will have gone\")"
   ]
  },
  {
   "cell_type": "code",
   "execution_count": 18,
   "id": "92ea81e8-ba4d-460e-9843-85a059ba3264",
   "metadata": {},
   "outputs": [
    {
     "data": {
      "text/plain": [
       "'he is no going'"
      ]
     },
     "execution_count": 18,
     "metadata": {},
     "output_type": "execute_result"
    }
   ],
   "source": [
    "'he is no going'"
   ]
  },
  {
   "cell_type": "code",
   "execution_count": 20,
   "id": "a5048091-3ba8-47ae-924a-ccd8e40f3cfb",
   "metadata": {},
   "outputs": [
    {
     "name": "stdout",
     "output_type": "stream",
     "text": [
      "he has been reading since two o clock\n"
     ]
    }
   ],
   "source": [
    "\"\"\"he has been reading since two o clock  \n",
    "the office toolbar \"\"\"\n",
    "print (\"he has been reading since two o clock\")"
   ]
  },
  {
   "cell_type": "code",
   "execution_count": 21,
   "id": "411635fc-4385-4ddf-8528-0fd283575071",
   "metadata": {},
   "outputs": [],
   "source": [
    " # (2) what are variable in python ? how do you declare and assign values to variables?"
   ]
  },
  {
   "cell_type": "code",
   "execution_count": 23,
   "id": "300b76a0-6303-4dfb-9c52-4a05f7211e08",
   "metadata": {},
   "outputs": [],
   "source": [
    "# answer : variable is a symbolic name that is a reference and pointer to object\n",
    "    "
   ]
  },
  {
   "cell_type": "code",
   "execution_count": 24,
   "id": "a47b5b14-a6db-46f9-ad79-fce36fd6067a",
   "metadata": {},
   "outputs": [],
   "source": [
    "sonu = 7899"
   ]
  },
  {
   "cell_type": "code",
   "execution_count": 25,
   "id": "61803a7e-eb1b-4acc-8f44-8f7109096e4b",
   "metadata": {},
   "outputs": [
    {
     "name": "stdout",
     "output_type": "stream",
     "text": [
      "7899\n"
     ]
    }
   ],
   "source": [
    "print(sonu)"
   ]
  },
  {
   "cell_type": "code",
   "execution_count": 26,
   "id": "855bfbe7-d231-43de-915f-259c7beb0720",
   "metadata": {},
   "outputs": [
    {
     "data": {
      "text/plain": [
       "int"
      ]
     },
     "execution_count": 26,
     "metadata": {},
     "output_type": "execute_result"
    }
   ],
   "source": [
    "type(sonu)"
   ]
  },
  {
   "cell_type": "code",
   "execution_count": 27,
   "id": "8cf074d3-9759-494a-a4fe-b71045cbc93f",
   "metadata": {},
   "outputs": [],
   "source": [
    "apple=\" apple is sweet\" "
   ]
  },
  {
   "cell_type": "code",
   "execution_count": 28,
   "id": "129ceb7f-7054-4c83-93e6-c68eb1bdb1dc",
   "metadata": {},
   "outputs": [
    {
     "data": {
      "text/plain": [
       "' apple is sweet'"
      ]
     },
     "execution_count": 28,
     "metadata": {},
     "output_type": "execute_result"
    }
   ],
   "source": [
    "apple"
   ]
  },
  {
   "cell_type": "code",
   "execution_count": 40,
   "id": "72dbaa77-fabd-4a2a-9162-bc9ad518fd0a",
   "metadata": {},
   "outputs": [],
   "source": [
    "#(3) how do you convert one data type to another in python?"
   ]
  },
  {
   "cell_type": "code",
   "execution_count": 43,
   "id": "9d0939c6-44ae-40b3-a90f-0f421d0f18f7",
   "metadata": {},
   "outputs": [],
   "source": [
    "#answer: \n"
   ]
  },
  {
   "cell_type": "code",
   "execution_count": 46,
   "id": "ac147a45-3b00-4198-af82-5d91181b940a",
   "metadata": {},
   "outputs": [],
   "source": [
    "\n",
    "l = [2,3,4,5,6, \"sonu\", \"kumar\" , 45,687, True]"
   ]
  },
  {
   "cell_type": "code",
   "execution_count": 47,
   "id": "c2ceee26-4b08-44d1-af52-0dce32c622a2",
   "metadata": {},
   "outputs": [
    {
     "data": {
      "text/plain": [
       "list"
      ]
     },
     "execution_count": 47,
     "metadata": {},
     "output_type": "execute_result"
    }
   ],
   "source": [
    "type(l)"
   ]
  },
  {
   "cell_type": "code",
   "execution_count": 48,
   "id": "79fa1570-fe22-4a49-beda-7e4c7dc7ec23",
   "metadata": {},
   "outputs": [
    {
     "data": {
      "text/plain": [
       "str"
      ]
     },
     "execution_count": 48,
     "metadata": {},
     "output_type": "execute_result"
    }
   ],
   "source": [
    "type(l[5])"
   ]
  },
  {
   "cell_type": "code",
   "execution_count": 49,
   "id": "1b01f5b2-b940-4d75-9a7d-f7224054c7b6",
   "metadata": {},
   "outputs": [
    {
     "name": "stdout",
     "output_type": "stream",
     "text": [
      "<class 'int'>\n",
      "<class 'int'>\n",
      "<class 'int'>\n",
      "<class 'int'>\n",
      "<class 'int'>\n",
      "<class 'str'>\n",
      "<class 'str'>\n",
      "<class 'int'>\n",
      "<class 'int'>\n",
      "<class 'bool'>\n"
     ]
    }
   ],
   "source": [
    "for i in l:\n",
    "    print(type(i))"
   ]
  },
  {
   "cell_type": "code",
   "execution_count": 65,
   "id": "177edd07-870c-4d3d-b0be-fd5a388f2d59",
   "metadata": {},
   "outputs": [],
   "source": [
    "d=\"sonukumarsingh\""
   ]
  },
  {
   "cell_type": "code",
   "execution_count": 66,
   "id": "40faa33a-73ef-470c-abc4-e9e0bd433c92",
   "metadata": {},
   "outputs": [
    {
     "data": {
      "text/plain": [
       "['s', 'o', 'n', 'u', 'k', 'u', 'm', 'a', 'r', 's', 'i', 'n', 'g', 'h']"
      ]
     },
     "execution_count": 66,
     "metadata": {},
     "output_type": "execute_result"
    }
   ],
   "source": [
    "list(d)"
   ]
  },
  {
   "cell_type": "code",
   "execution_count": 67,
   "id": "f6a6f223-88ec-4bc9-9e3f-ef22dc86c96a",
   "metadata": {},
   "outputs": [],
   "source": [
    "l = [1,2,3,\"don\",5+7j,False,67.12]"
   ]
  },
  {
   "cell_type": "code",
   "execution_count": 68,
   "id": "5d81efe6-e292-48a0-8c87-4267de99fbfb",
   "metadata": {},
   "outputs": [
    {
     "data": {
      "text/plain": [
       "[1, 2, 3, 'don', (5+7j), False, 67.12]"
      ]
     },
     "execution_count": 68,
     "metadata": {},
     "output_type": "execute_result"
    }
   ],
   "source": [
    "l"
   ]
  },
  {
   "cell_type": "code",
   "execution_count": 69,
   "id": "2c647d95-8d48-451b-9db9-4a019efa1489",
   "metadata": {},
   "outputs": [],
   "source": [
    "l[2]=400"
   ]
  },
  {
   "cell_type": "code",
   "execution_count": 70,
   "id": "4fba2a0e-fe3c-410d-a440-159eca4f5194",
   "metadata": {},
   "outputs": [
    {
     "data": {
      "text/plain": [
       "[1, 2, 400, 'don', (5+7j), False, 67.12]"
      ]
     },
     "execution_count": 70,
     "metadata": {},
     "output_type": "execute_result"
    }
   ],
   "source": [
    "l"
   ]
  },
  {
   "cell_type": "code",
   "execution_count": 71,
   "id": "5015d10d-55ca-4248-bd82-6da9067fa3e6",
   "metadata": {},
   "outputs": [],
   "source": [
    "#(4). how do you write and execute a python script from the commanad line ?"
   ]
  },
  {
   "cell_type": "code",
   "execution_count": null,
   "id": "3916b27e-37e5-4260-8488-0ac950717bad",
   "metadata": {},
   "outputs": [],
   "source": [
    "answer"
   ]
  },
  {
   "cell_type": "code",
   "execution_count": null,
   "id": "a5b6027a-77de-4e66-845d-f978b4e1fa3f",
   "metadata": {},
   "outputs": [],
   "source": [
    "Open a text editor and create a new file. You can use any text editor of your choice, such as Notepad, Sublime Text, Atom, or Visual Studio Code.\n",
    "\n",
    "Write your Python code in the text editor. For example, let's create a simple script that prints \"Hello, World!\":\n",
    "\n",
    "python\n",
    "Copy code\n",
    "# File: hello.py\n",
    "print(\"Hello, World!\")\n",
    "Save the file with a .py extension. In this example, save the file as hello.py. The .py extension indicates that it's a Python script.\n",
    "\n",
    "Open the command line or terminal on your operating system. The method for opening the command line varies depending on your operating system:\n",
    "\n",
    "On Windows, you can press Win + R, type cmd, and press Enter.\n",
    "On macOS, you can press Cmd + Space, type Terminal, and press Enter.\n",
    "On Linux, you can press Ctrl + Alt + T to open the terminal.\n",
    "Navigate to the directory where you saved the Python script using the cd command. For example, if you saved the script in the Documents folder, you would use the following command:\n",
    "\n",
    "bash\n",
    "Copy code\n",
    "cd Documents\n",
    "Once you're in the correct directory, you can execute the Python script using the python command followed by the script's filename. In this case, the command would be:\n",
    "\n",
    "Copy code\n",
    "python hello.py\n",
    "The output, \"Hello, World!\", will be displayed in the terminal."
   ]
  },
  {
   "cell_type": "code",
   "execution_count": null,
   "id": "1abe31c3-acde-4c3f-a801-cbba9b70afa5",
   "metadata": {},
   "outputs": [],
   "source": [
    "#Q5. Given a list my_list = [1, 2, 3, 4, 5], write the code to slice the list and obtain the sub-list [2, 3]."
   ]
  },
  {
   "cell_type": "code",
   "execution_count": 6,
   "id": "ee10b6a5-19e9-470d-a7af-1a547ee1d6c7",
   "metadata": {},
   "outputs": [],
   "source": [
    "l = [1,2,3,4,5]"
   ]
  },
  {
   "cell_type": "code",
   "execution_count": 7,
   "id": "4303b25f-c239-4797-a5f9-6d8812efec46",
   "metadata": {},
   "outputs": [
    {
     "data": {
      "text/plain": [
       "[1, 2, 3, 4, 5]"
      ]
     },
     "execution_count": 7,
     "metadata": {},
     "output_type": "execute_result"
    }
   ],
   "source": [
    "l"
   ]
  },
  {
   "cell_type": "code",
   "execution_count": 8,
   "id": "63b993df-761e-4334-b7c4-0eca47f7b704",
   "metadata": {},
   "outputs": [
    {
     "data": {
      "text/plain": [
       "2"
      ]
     },
     "execution_count": 8,
     "metadata": {},
     "output_type": "execute_result"
    }
   ],
   "source": [
    "l[1]"
   ]
  },
  {
   "cell_type": "code",
   "execution_count": 9,
   "id": "bea912b2-4cbe-44d5-8613-3df58b42edb7",
   "metadata": {},
   "outputs": [
    {
     "data": {
      "text/plain": [
       "3"
      ]
     },
     "execution_count": 9,
     "metadata": {},
     "output_type": "execute_result"
    }
   ],
   "source": [
    "l[2]"
   ]
  },
  {
   "cell_type": "code",
   "execution_count": 12,
   "id": "10e2c57b-e796-4d6a-b6c0-a13404c5861a",
   "metadata": {},
   "outputs": [
    {
     "data": {
      "text/plain": [
       "[2, 3]"
      ]
     },
     "execution_count": 12,
     "metadata": {},
     "output_type": "execute_result"
    }
   ],
   "source": [
    "l[1:3]"
   ]
  },
  {
   "cell_type": "code",
   "execution_count": null,
   "id": "96698bb7-5935-4041-bba8-a587b88a1de0",
   "metadata": {},
   "outputs": [],
   "source": [
    "#Q6.  What is a complex number in mathematics, and how is it represented in Python?"
   ]
  },
  {
   "cell_type": "code",
   "execution_count": null,
   "id": "8ac2a25a-317f-45ea-a0b8-60a42b6be0d8",
   "metadata": {},
   "outputs": [],
   "source": [
    "answer :"
   ]
  },
  {
   "cell_type": "code",
   "execution_count": null,
   "id": "a4b34726-b77f-40b9-8fe5-11fbc1ed06f4",
   "metadata": {},
   "outputs": [],
   "source": [
    "complex numberin maths of = a+ib \n",
    "where ,a,b are real number and 'i' is an imaginary number called \"iota\"\n",
    "and python complex number = 9+6j "
   ]
  },
  {
   "cell_type": "code",
   "execution_count": null,
   "id": "8dde05db-f0bf-49dc-8ce4-0ced2b1d7f99",
   "metadata": {},
   "outputs": [],
   "source": [
    "#Q7. What is the correct way to declare a variable named age and assign the value 25 to it?"
   ]
  },
  {
   "cell_type": "code",
   "execution_count": 13,
   "id": "f3d39fd0-016e-4541-9400-0f855b96fd2a",
   "metadata": {},
   "outputs": [],
   "source": [
    "age = 25;"
   ]
  },
  {
   "cell_type": "code",
   "execution_count": 14,
   "id": "b66693b3-3c82-4ece-97a0-9fc6856aabb1",
   "metadata": {},
   "outputs": [
    {
     "data": {
      "text/plain": [
       "25"
      ]
     },
     "execution_count": 14,
     "metadata": {},
     "output_type": "execute_result"
    }
   ],
   "source": [
    "age"
   ]
  },
  {
   "cell_type": "code",
   "execution_count": null,
   "id": "84943060-c2e3-4536-88b4-f4b1fba85b1a",
   "metadata": {},
   "outputs": [],
   "source": [
    "#Q8. Declare a variable named price and assign the value 9.99 to it. What data type does this variable belong to?"
   ]
  },
  {
   "cell_type": "code",
   "execution_count": 15,
   "id": "fef6c739-7836-419e-8c6b-9d4856ee3acc",
   "metadata": {},
   "outputs": [],
   "source": [
    "price = 9.99;"
   ]
  },
  {
   "cell_type": "code",
   "execution_count": 16,
   "id": "83da5cd8-172e-4abe-9024-cb9c408a137b",
   "metadata": {},
   "outputs": [
    {
     "data": {
      "text/plain": [
       "9.99"
      ]
     },
     "execution_count": 16,
     "metadata": {},
     "output_type": "execute_result"
    }
   ],
   "source": [
    "price"
   ]
  },
  {
   "cell_type": "code",
   "execution_count": 17,
   "id": "74fbb01c-be11-4d03-ae07-78cc841cbe67",
   "metadata": {},
   "outputs": [
    {
     "data": {
      "text/plain": [
       "float"
      ]
     },
     "execution_count": 17,
     "metadata": {},
     "output_type": "execute_result"
    }
   ],
   "source": [
    "type(price)"
   ]
  },
  {
   "cell_type": "code",
   "execution_count": 18,
   "id": "827cdeac-a2f9-416f-a315-d2699ec90a29",
   "metadata": {},
   "outputs": [
    {
     "data": {
      "text/plain": [
       "float"
      ]
     },
     "execution_count": 18,
     "metadata": {},
     "output_type": "execute_result"
    }
   ],
   "source": [
    "type(9.99)"
   ]
  },
  {
   "cell_type": "code",
   "execution_count": null,
   "id": "6f159b66-3447-48db-b9f1-80bbda06c0a3",
   "metadata": {},
   "outputs": [],
   "source": [
    "#Q9. Create a variable named name and assign your full name to it as a string. How would you print the value of this variable?"
   ]
  },
  {
   "cell_type": "code",
   "execution_count": 22,
   "id": "57bb8c55-c756-4286-b114-958b54577323",
   "metadata": {},
   "outputs": [
    {
     "name": "stdout",
     "output_type": "stream",
     "text": [
      "sonu kumar singh\n"
     ]
    }
   ],
   "source": [
    "name = \"sonu kumar singh\"\n",
    "print(name)"
   ]
  },
  {
   "cell_type": "code",
   "execution_count": null,
   "id": "d96ece4a-b715-4154-af4a-726f7028fbc3",
   "metadata": {},
   "outputs": [],
   "source": [
    "#Q10. Given the string \"Hello, World!\", extract the substring \"World\"."
   ]
  },
  {
   "cell_type": "code",
   "execution_count": 32,
   "id": "865fa895-d4b2-4de5-a79e-339cc2d8449b",
   "metadata": {},
   "outputs": [],
   "source": [
    "f = \"hello , world\""
   ]
  },
  {
   "cell_type": "code",
   "execution_count": 33,
   "id": "33992183-0bb7-4fcd-a52a-4ef2f59e1f1d",
   "metadata": {},
   "outputs": [
    {
     "data": {
      "text/plain": [
       "'hello , world'"
      ]
     },
     "execution_count": 33,
     "metadata": {},
     "output_type": "execute_result"
    }
   ],
   "source": [
    "f"
   ]
  },
  {
   "cell_type": "code",
   "execution_count": 49,
   "id": "25ce122c-7317-41a2-9faf-193a21348eba",
   "metadata": {},
   "outputs": [
    {
     "name": "stdout",
     "output_type": "stream",
     "text": [
      ", world\n"
     ]
    }
   ],
   "source": [
    "sonu = \"hello , world\"\n",
    "substring = sonu[6:]\n",
    "print(substring)"
   ]
  },
  {
   "cell_type": "code",
   "execution_count": null,
   "id": "42e13b18-23e8-4d74-82c9-7565d5097f8d",
   "metadata": {},
   "outputs": [],
   "source": [
    "#Q11. Create a variable named \"is_student\" and assign it a boolean value indicating whether you are\n",
    "currently a student or not.?"
   ]
  },
  {
   "cell_type": "code",
   "execution_count": 50,
   "id": "eac123c1-bcfd-47f7-ae24-addd63113e9c",
   "metadata": {},
   "outputs": [],
   "source": [
    "is_student = True"
   ]
  },
  {
   "cell_type": "code",
   "execution_count": 51,
   "id": "dbcf61dc-e85f-4883-b5d5-59ddb7349389",
   "metadata": {},
   "outputs": [
    {
     "data": {
      "text/plain": [
       "bool"
      ]
     },
     "execution_count": 51,
     "metadata": {},
     "output_type": "execute_result"
    }
   ],
   "source": [
    "type(is_student)"
   ]
  },
  {
   "cell_type": "code",
   "execution_count": null,
   "id": "f2437ff8-6be2-4c9e-90c6-d03e3bfc4f70",
   "metadata": {},
   "outputs": [],
   "source": [
    "the variable 'is_student'is assigned the boolean value 'True',\n",
    "indicating that the person associated with this variable is a student .\n",
    "if the person is not a student ,you can assign the value 'False' "
   ]
  }
 ],
 "metadata": {
  "kernelspec": {
   "display_name": "Python 3 (ipykernel)",
   "language": "python",
   "name": "python3"
  },
  "language_info": {
   "codemirror_mode": {
    "name": "ipython",
    "version": 3
   },
   "file_extension": ".py",
   "mimetype": "text/x-python",
   "name": "python",
   "nbconvert_exporter": "python",
   "pygments_lexer": "ipython3",
   "version": "3.10.8"
  }
 },
 "nbformat": 4,
 "nbformat_minor": 5
}
